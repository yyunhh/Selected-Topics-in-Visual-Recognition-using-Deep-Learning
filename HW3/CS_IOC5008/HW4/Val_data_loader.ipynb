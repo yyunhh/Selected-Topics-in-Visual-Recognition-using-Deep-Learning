{
 "cells": [
  {
   "cell_type": "code",
   "execution_count": 2,
   "metadata": {},
   "outputs": [],
   "source": [
    "import matplotlib.pyplot as plt\n",
    "import cv2\n",
    "import numpy as np\n",
    "import json\n",
    "import glob\n",
    "\n",
    "from pycocotools.coco import COCO\n",
    "from pycocotools.cocoeval import COCOeval"
   ]
  },
  {
   "cell_type": "code",
   "execution_count": 4,
   "metadata": {},
   "outputs": [
    {
     "name": "stdout",
     "output_type": "stream",
     "text": [
      "loading annotations into memory...\n",
      "Done (t=0.01s)\n",
      "creating index...\n",
      "index created!\n"
     ]
    }
   ],
   "source": [
    "coco = COCO(\"./Val/test.json\") # load validation annotations"
   ]
  },
  {
   "cell_type": "code",
   "execution_count": 5,
   "metadata": {},
   "outputs": [
    {
     "data": {
      "text/plain": [
       "{1: {'supercategory': 'aeroplane', 'name': 'aeroplane', 'id': 1},\n",
       " 2: {'supercategory': 'bicycle', 'name': 'bicycle', 'id': 2},\n",
       " 3: {'supercategory': 'bird', 'name': 'bird', 'id': 3},\n",
       " 4: {'supercategory': 'boat', 'name': 'boat', 'id': 4},\n",
       " 5: {'supercategory': 'bottle', 'name': 'bottle', 'id': 5},\n",
       " 6: {'supercategory': 'bus', 'name': 'bus', 'id': 6},\n",
       " 7: {'supercategory': 'car', 'name': 'car', 'id': 7},\n",
       " 8: {'supercategory': 'cat', 'name': 'cat', 'id': 8},\n",
       " 9: {'supercategory': 'chair', 'name': 'chair', 'id': 9},\n",
       " 10: {'supercategory': 'cow', 'name': 'cow', 'id': 10},\n",
       " 11: {'supercategory': 'diningtable', 'name': 'diningtable', 'id': 11},\n",
       " 12: {'supercategory': 'dog', 'name': 'dog', 'id': 12},\n",
       " 13: {'supercategory': 'horse', 'name': 'horse', 'id': 13},\n",
       " 14: {'supercategory': 'motorbike', 'name': 'motorbike', 'id': 14},\n",
       " 15: {'supercategory': 'person', 'name': 'person', 'id': 15},\n",
       " 16: {'supercategory': 'pottedplant', 'name': 'pottedplant', 'id': 16},\n",
       " 17: {'supercategory': 'sheep', 'name': 'sheep', 'id': 17},\n",
       " 18: {'supercategory': 'sofa', 'name': 'sofa', 'id': 18},\n",
       " 19: {'supercategory': 'train', 'name': 'train', 'id': 19},\n",
       " 20: {'supercategory': 'tvmonitor', 'name': 'tvmonitor', 'id': 20}}"
      ]
     },
     "execution_count": 5,
     "metadata": {},
     "output_type": "execute_result"
    }
   ],
   "source": [
    "coco.cats # check the category"
   ]
  },
  {
   "cell_type": "code",
   "execution_count": 7,
   "metadata": {},
   "outputs": [
    {
     "name": "stdout",
     "output_type": "stream",
     "text": [
      "[914, 1005, 1417, 940, 1310, 413, 967, 673, 1214, 305, 978, 395, 180, 125, 447, 1181, 969, 573, 950, 1278]\n",
      "{'file_name': '2009_004886.jpg', 'id': 914, 'height': 333, 'width': 500}\n"
     ]
    }
   ],
   "source": [
    "# The keys in coco.imgs (dictionary) can be used to track each image\n",
    "print(list(coco.imgs.keys())[:20])\n",
    "print(coco.imgs[914])"
   ]
  },
  {
   "cell_type": "code",
   "execution_count": 9,
   "metadata": {},
   "outputs": [
    {
     "name": "stdout",
     "output_type": "stream",
     "text": [
      "[{'file_name': '2009_004886.jpg', 'id': 914, 'height': 333, 'width': 500}]\n"
     ]
    }
   ],
   "source": [
    "imgIds = 914 # Use the key above to retrieve information of the image\n",
    "img_info = coco.loadImgs(ids=imgIds)\n",
    "print(img_info)"
   ]
  },
  {
   "cell_type": "code",
   "execution_count": 10,
   "metadata": {},
   "outputs": [
    {
     "ename": "TypeError",
     "evalue": "'NoneType' object is not subscriptable",
     "output_type": "error",
     "traceback": [
      "\u001b[1;31m---------------------------------------------------------------------------\u001b[0m",
      "\u001b[1;31mTypeError\u001b[0m                                 Traceback (most recent call last)",
      "\u001b[1;32m<ipython-input-10-e93570837ba4>\u001b[0m in \u001b[0;36m<module>\u001b[1;34m\u001b[0m\n\u001b[1;32m----> 1\u001b[1;33m \u001b[0mimage\u001b[0m \u001b[1;33m=\u001b[0m \u001b[0mcv2\u001b[0m\u001b[1;33m.\u001b[0m\u001b[0mimread\u001b[0m\u001b[1;33m(\u001b[0m\u001b[0mimg_info\u001b[0m\u001b[1;33m[\u001b[0m\u001b[1;36m0\u001b[0m\u001b[1;33m]\u001b[0m\u001b[1;33m[\u001b[0m\u001b[1;34m'file_name'\u001b[0m\u001b[1;33m]\u001b[0m\u001b[1;33m)\u001b[0m\u001b[1;33m[\u001b[0m\u001b[1;33m:\u001b[0m\u001b[1;33m,\u001b[0m\u001b[1;33m:\u001b[0m\u001b[1;33m,\u001b[0m\u001b[1;33m:\u001b[0m\u001b[1;33m:\u001b[0m\u001b[1;33m-\u001b[0m\u001b[1;36m1\u001b[0m\u001b[1;33m]\u001b[0m \u001b[1;31m# In your implementation, you should find this image in **train_images/** folders\u001b[0m\u001b[1;33m\u001b[0m\u001b[1;33m\u001b[0m\u001b[0m\n\u001b[0m\u001b[0;32m      2\u001b[0m \u001b[0mplt\u001b[0m\u001b[1;33m.\u001b[0m\u001b[0mimshow\u001b[0m\u001b[1;33m(\u001b[0m\u001b[0mimage\u001b[0m\u001b[1;33m)\u001b[0m\u001b[1;33m\u001b[0m\u001b[1;33m\u001b[0m\u001b[0m\n",
      "\u001b[1;31mTypeError\u001b[0m: 'NoneType' object is not subscriptable"
     ]
    }
   ],
   "source": [
    "image = cv2.imread(img_info[0]['file_name'])[:,:,::-1] # In your implementation, you should find this image in **train_images/** folders\n",
    "plt.imshow(image)"
   ]
  },
  {
   "cell_type": "code",
   "execution_count": 9,
   "metadata": {},
   "outputs": [
    {
     "name": "stdout",
     "output_type": "stream",
     "text": [
      "[9, 10, 11, 12, 13, 14]\n"
     ]
    }
   ],
   "source": [
    "# Use the imgIds to find all instance ids of the image\n",
    "annids = coco.getAnnIds(imgIds=imgIds)\n",
    "print(annids)"
   ]
  },
  {
   "cell_type": "code",
   "execution_count": 10,
   "metadata": {},
   "outputs": [
    {
     "name": "stdout",
     "output_type": "stream",
     "text": [
      "Number of instances:  6\n"
     ]
    }
   ],
   "source": [
    "anns = coco.loadAnns(annids)\n",
    "print(\"Number of instances: \", len(annids))"
   ]
  },
  {
   "cell_type": "code",
   "execution_count": 11,
   "metadata": {},
   "outputs": [
    {
     "name": "stdout",
     "output_type": "stream",
     "text": [
      "dict_keys(['segmentation', 'area', 'iscrowd', 'image_id', 'bbox', 'category_id', 'id'])\n"
     ]
    }
   ],
   "source": [
    "instance_id = 0\n",
    "print(anns[instance_id].keys()) # check the information of the first instance of the image"
   ]
  },
  {
   "cell_type": "code",
   "execution_count": 12,
   "metadata": {},
   "outputs": [
    {
     "name": "stdout",
     "output_type": "stream",
     "text": [
      "Polygons of segmenatation:       [90, 257, 88, 259, 89, 260, 89, 261, 91, 263, 92, 263, 94, 261, 93, 260, 93, 259]\n",
      "Image id of this instance:       5\n",
      "Bounding box of this instance:   [79, 203, 173, 297]\n",
      "Category_id:                     2\n"
     ]
    }
   ],
   "source": [
    "print(\"Polygons of segmenatation:      \", anns[instance_id]['segmentation'][0][:18])\n",
    "print(\"Image id of this instance:      \", anns[instance_id]['image_id'])\n",
    "print(\"Bounding box of this instance:  \", anns[instance_id]['bbox'])\n",
    "print(\"Category_id:                    \", anns[instance_id]['category_id'])"
   ]
  },
  {
   "cell_type": "markdown",
   "metadata": {},
   "source": [
    "## Visualization"
   ]
  },
  {
   "cell_type": "code",
   "execution_count": 13,
   "metadata": {},
   "outputs": [
    {
     "data": {
      "image/png": "[encoded data removed]",
      "text/plain": [
       "<Figure size 1296x864 with 6 Axes>"
      ]
     },
     "metadata": {
      "needs_background": "light"
     },
     "output_type": "display_data"
    }
   ],
   "source": [
    "plt.subplots(nrows=2, ncols=3, figsize=(18, 12))\n",
    "for i in range(len(annids)):\n",
    "    mask = coco.annToMask(anns[i])\n",
    "    cate = anns[i]['category_id']\n",
    "    plt.subplot(2, 3, i+1)\n",
    "    plt.title(\"Instance {}, category={}\".format(i+1, coco.cats[cate]['name']))\n",
    "    plt.imshow(mask)"
   ]
  },
  {
   "cell_type": "markdown",
   "metadata": {},
   "source": [
    "## Prepare submission file\n",
    "The format of submission.json file is same as the officail COCO evaluation format. Therefore, we can evaluate your results with the official evaluation code. Please see [here](http://cocodataset.org/#format-results) for more details."
   ]
  },
  {
   "cell_type": "code",
   "execution_count": 14,
   "metadata": {},
   "outputs": [
    {
     "name": "stdout",
     "output_type": "stream",
     "text": [
      "loading annotations into memory...\n",
      "Done (t=0.00s)\n",
      "creating index...\n",
      "index created!\n"
     ]
    }
   ],
   "source": [
    "cocoGt = COCO(\"test.json\")"
   ]
  },
  {
   "cell_type": "code",
   "execution_count": 15,
   "metadata": {},
   "outputs": [],
   "source": [
    "from utils import binary_mask_to_rle"
   ]
  },
  {
   "cell_type": "code",
   "execution_count": 16,
   "metadata": {},
   "outputs": [
    {
     "ename": "SyntaxError",
     "evalue": "invalid syntax (<ipython-input-16-336bd9a5ed69>, line 6)",
     "output_type": "error",
     "traceback": [
      "\u001b[1;36m  File \u001b[1;32m\"<ipython-input-16-336bd9a5ed69>\"\u001b[1;36m, line \u001b[1;32m6\u001b[0m\n\u001b[1;33m    n_instances = len(score)    if len(categories) > 0: # If any objects are detected in this image\u001b[0m\n\u001b[1;37m                                                      ^\u001b[0m\n\u001b[1;31mSyntaxError\u001b[0m\u001b[1;31m:\u001b[0m invalid syntax\n"
     ]
    }
   ],
   "source": [
    "coco_dt = []\n",
    "\n",
    "for imgid in cocoGt.imgs:\n",
    "    image = cv2.imread(\"test_images/\" + coco.loadImgs(ids=imgid)[0]['file_name'])[:,:,::-1] # load image\n",
    "    masks, categories, scores = model.predict(image) # run inference of your model\n",
    "    n_instances = len(score)    if len(categories) > 0: # If any objects are detected in this image\n",
    "        for i in range(n_instances): # Loop all instances\n",
    "            # save information of the instance in a dictionary then append on coco_dt list\n",
    "            pred = {}\n",
    "            pred['image_id'] = imgid # this imgid must be same as the key of test.json\n",
    "            pred['category_id'] = int(categories[i])\n",
    "            pred['segmentation'] = binary_mask_to_rle(masks[:,:,i]) # save binary mask to RLE, e.g. 512x512 -> rle\n",
    "            pred['score'] = float(scores[i])\n",
    "            coco_dt.append(pred)"
   ]
  },
  {
   "cell_type": "code",
   "execution_count": null,
   "metadata": {},
   "outputs": [],
   "source": [
    "with open(\"submission.json\", \"w\") as f:\n",
    "    json.dump(coco_dt, f)"
   ]
  },
  {
   "cell_type": "markdown",
   "metadata": {},
   "source": [
    "### To validate your json file, you can predict on your training data and use code below to evaluate"
   ]
  },
  {
   "cell_type": "code",
   "execution_count": 20,
   "metadata": {},
   "outputs": [
    {
     "name": "stdout",
     "output_type": "stream",
     "text": [
      "loading annotations into memory...\n",
      "Done (t=0.37s)\n",
      "creating index...\n",
      "index created!\n"
     ]
    }
   ],
   "source": [
    "cocoGt = COCO(\"pascal_train.json\")"
   ]
  },
  {
   "cell_type": "markdown",
   "metadata": {},
   "source": [
    "generate submission file of training data\n",
    "```python\n",
    "coco_dt_train = []\n",
    "for img in train_images:\n",
    "    ...\n",
    "    \n",
    "with open(\"submission_train.json\", \"w\") as f:\n",
    "    json.dump(coco_dt_train, f)\n",
    "```"
   ]
  },
  {
   "cell_type": "code",
   "execution_count": null,
   "metadata": {},
   "outputs": [],
   "source": [
    "cocoDt = cocoGt.loadRes(\"submission_train.json\")\n",
    "\n",
    "cocoEval = COCOeval(cocoGt, cocoDt, 'segm')\n",
    "cocoEval.evaluate()\n",
    "cocoEval.accumulate()\n",
    "cocoEval.summarize()"
   ]
  }
 ],
 "metadata": {
  "kernelspec": {
   "display_name": "Pytorch",
   "language": "python",
   "name": "pytorch"
  },
  "language_info": {
   "codemirror_mode": {
    "name": "ipython",
    "version": 3
   },
   "file_extension": ".py",
   "mimetype": "text/x-python",
   "name": "python",
   "nbconvert_exporter": "python",
   "pygments_lexer": "ipython3",
   "version": "3.8.5"
  }
 },
 "nbformat": 4,
 "nbformat_minor": 2
}
